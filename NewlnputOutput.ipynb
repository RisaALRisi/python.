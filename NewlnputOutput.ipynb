{
 "cells": [
  {
   "cell_type": "code",
   "execution_count": null,
   "metadata": {},
   "outputs": [],
   "source": []
  },
  {
   "cell_type": "markdown",
   "metadata": {},
   "source": [
    "Write a programme that reads 2 numbers and print the sum of the two numbers"
   ]
  },
  {
   "cell_type": "code",
   "execution_count": 1,
   "metadata": {},
   "outputs": [
    {
     "name": "stdout",
     "output_type": "stream",
     "text": [
      "The result is:  7\n"
     ]
    }
   ],
   "source": [
    "x = input(\"Enter the first number: \")\n",
    "x = int (x)\n",
    "y = input(\"Enter the second number: \")\n",
    "y = int (y)\n",
    "r = x+y\n",
    "print (\"The result is: \", r)\n"
   ]
  },
  {
   "cell_type": "markdown",
   "metadata": {},
   "source": [
    "Write a programme that reads three numbers and prints the result of  multiplying the numbers"
   ]
  },
  {
   "cell_type": "code",
   "execution_count": 7,
   "metadata": {},
   "outputs": [
    {
     "name": "stdout",
     "output_type": "stream",
     "text": [
      "The result is:  8.0\n"
     ]
    }
   ],
   "source": [
    "x = input(\"Enter the first number: \")\n",
    "x = float (x)\n",
    "y = input(\"Enter the second number: \")\n",
    "y = float (y)\n",
    "z = input(\"Enter the third number: \")\n",
    "z = float (z)\n",
    "r = x*y*z\n",
    "print (\"The result is: \", r)\n"
   ]
  }
 ],
 "metadata": {
  "kernelspec": {
   "display_name": "Python 3",
   "language": "python",
   "name": "python3"
  },
  "language_info": {
   "codemirror_mode": {
    "name": "ipython",
    "version": 3
   },
   "file_extension": ".py",
   "mimetype": "text/x-python",
   "name": "python",
   "nbconvert_exporter": "python",
   "pygments_lexer": "ipython3",
   "version": "3.10.8"
  }
 },
 "nbformat": 4,
 "nbformat_minor": 2
}
